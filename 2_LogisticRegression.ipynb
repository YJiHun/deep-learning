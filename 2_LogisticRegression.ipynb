{
  "nbformat": 4,
  "nbformat_minor": 0,
  "metadata": {
    "colab": {
      "name": "2_LogisticRegression.ipynb",
      "provenance": [],
      "collapsed_sections": []
    },
    "kernelspec": {
      "name": "python3",
      "display_name": "Python 3"
    },
    "language_info": {
      "name": "python"
    }
  },
  "cells": [
    {
      "cell_type": "markdown",
      "metadata": {
        "id": "view-in-github"
      },
      "source": [
        "<a href=\"https://colab.research.google.com/github/yebiny/Lecture_deeplearning_basic/blob/main/2_LogisticRegression.ipynb\" target=\"_parent\"><img src=\"https://colab.research.google.com/assets/colab-badge.svg\" alt=\"Open In Colab\"/></a>"
      ]
    },
    {
      "cell_type": "markdown",
      "metadata": {
        "id": "MhaiH8f2hSHN"
      },
      "source": [
        "# 로지스틱 회귀 ( Logistic Regression )\n",
        "\n",
        ">**목차**\n",
        "1. 개념정리\n",
        "2. 손실함수 : 크로스 엔트로피 (Cross Entropy)\n",
        "3. 실습\n"
      ]
    },
    {
      "cell_type": "code",
      "metadata": {
        "id": "2VW4g5_Ogrng"
      },
      "source": [
        "import numpy as np\n",
        "import matplotlib.pyplot as plt\n",
        "from tensorflow.keras.models import Sequential\n",
        "from tensorflow.keras.layers import Dense\n",
        "from tensorflow.keras import optimizers"
      ],
      "execution_count": null,
      "outputs": []
    },
    {
      "cell_type": "markdown",
      "metadata": {
        "id": "Xspd1KqyT9ab"
      },
      "source": [
        "## 1. 개념정리\n",
        "---\n",
        "\n",
        "\n",
        "<br>\n",
        "\n",
        "###<center> < 가설 > </center>\n",
        "###  <center>$f(x)=\\sigma(xW+b)$</center>\n",
        "\n",
        "<br>\n",
        "\n",
        "### <center> < 목적 > </center>\n",
        "### <center>$(w^{*}, b^{*})=arg \\; min \\;J(y, \\hat{y})$</center>\n",
        "### <center> $ =arg \\; min \\;J(y, f(x))$</center>\n",
        "### <center> $ =arg \\; min \\;J(y, \\sigma(xW+b))$</center>"
      ]
    },
    {
      "cell_type": "markdown",
      "metadata": {
        "id": "wJvI8FdoNwM6"
      },
      "source": [
        "### **시그모이드 함수 ( Sigmoid funtion )**\n",
        "\n",
        "</br>\n",
        "\n",
        "### <center>$H(x) = \\frac{1}{1+e^{(-x)}} = \\sigma(x)$</center>\n",
        "\n",
        "**<center> e(e=2.718281..):**  자연 상수"
      ]
    },
    {
      "cell_type": "markdown",
      "metadata": {
        "id": "yVrRMqlSxD2L"
      },
      "source": [
        "* 구현"
      ]
    },
    {
      "cell_type": "code",
      "metadata": {
        "id": "l6vzKZkrNX5O"
      },
      "source": [
        "def sigmoid(x):\n",
        "  return 1/(1+np.exp(-x))"
      ],
      "execution_count": null,
      "outputs": []
    },
    {
      "cell_type": "markdown",
      "metadata": {
        "id": "I8Lpa78pmWZT"
      },
      "source": [
        "* 시각화"
      ]
    },
    {
      "cell_type": "code",
      "metadata": {
        "id": "ZE925IHilr5L",
        "colab": {
          "base_uri": "https://localhost:8080/",
          "height": 283
        },
        "outputId": "be33213c-fb3e-4d88-a265-db4e3e7bb981"
      },
      "source": [
        "x_arr = np.arange(-5, 5 , 0.1)\n",
        "y_arr = []\n",
        "for x in x_arr:\n",
        "  y = sigmoid(x)\n",
        "  y_arr.append(y)\n",
        "\n",
        "y_arr = np.array(y_arr)\n",
        "\n",
        "plt.plot([0,0],[0,1],linestyle='--')\n",
        "plt.plot(x_arr, y_arr)"
      ],
      "execution_count": null,
      "outputs": [
        {
          "output_type": "execute_result",
          "data": {
            "text/plain": [
              "[<matplotlib.lines.Line2D at 0x7fd45be78b10>]"
            ]
          },
          "metadata": {},
          "execution_count": 284
        },
        {
          "output_type": "display_data",
          "data": {
            "image/png": "[encoded data removed]",
            "text/plain": [
              "<Figure size 432x288 with 1 Axes>"
            ]
          },
          "metadata": {
            "needs_background": "light"
          }
        }
      ]
    },
    {
      "cell_type": "markdown",
      "metadata": {
        "id": "SzKxctP_YrtO"
      },
      "source": [
        "### **가설 구현**\n",
        "###<center>$f(x)=\\sigma(xW+b)$</center>"
      ]
    },
    {
      "cell_type": "code",
      "metadata": {
        "id": "kpCBupT9GIfY"
      },
      "source": [
        "def hypothesis(x, W, b=0):\n",
        "  return sigmoid(np.dot(x,W)+b)"
      ],
      "execution_count": null,
      "outputs": []
    },
    {
      "cell_type": "code",
      "metadata": {
        "id": "itvJt9yRkZib"
      },
      "source": [
        ""
      ],
      "execution_count": null,
      "outputs": []
    },
    {
      "cell_type": "markdown",
      "metadata": {
        "id": "heC50xSfZ28d"
      },
      "source": [
        "### **예제**\n",
        "\n",
        "|라운드점수(X)|종합점수|결과(Y)\n",
        "|------|---|---|\n",
        "|-3|1|패배|\n",
        "|-2|1|패배|\n",
        "|-1|2|패배|\n",
        "|0|3|패배|\n",
        "|1|5|승리|\n",
        "|2|8|승리|\n",
        "|3|9|승리|\n"
      ]
    },
    {
      "cell_type": "markdown",
      "metadata": {
        "id": "31x3U7SB2ziD"
      },
      "source": [
        "* 데이터 정의\n",
        "\n"
      ]
    },
    {
      "cell_type": "code",
      "metadata": {
        "id": "IAi3_LvS1BYj",
        "colab": {
          "base_uri": "https://localhost:8080/"
        },
        "outputId": "d0399fd7-c039-4f03-b53d-172b7e0f0061"
      },
      "source": [
        "X = np.arange(-3,4,1).reshape(-1, 1)\n",
        "Y = np.array([[0],\n",
        "              [0],\n",
        "              [0],\n",
        "              [0],\n",
        "              [1],\n",
        "              [1],\n",
        "              [1]])\n",
        "X[0].shape, Y[0].shape"
      ],
      "execution_count": null,
      "outputs": [
        {
          "output_type": "execute_result",
          "data": {
            "text/plain": [
              "((1,), (1,))"
            ]
          },
          "metadata": {},
          "execution_count": 286
        }
      ]
    },
    {
      "cell_type": "markdown",
      "metadata": {
        "id": "RVfGUYHqZqNY"
      },
      "source": [
        "* 예측"
      ]
    },
    {
      "cell_type": "code",
      "metadata": {
        "id": "jFmDoJ3JZqH2",
        "colab": {
          "base_uri": "https://localhost:8080/"
        },
        "outputId": "94400570-734f-4fd5-dfb7-63ddfa57679b"
      },
      "source": [
        "W = np.array([[1]])\n",
        "W.shape\n",
        "\n",
        "for x in X:\n",
        "  y_pred = hypothesis(x[0], W)\n",
        "  print(y_pred)"
      ],
      "execution_count": null,
      "outputs": [
        {
          "output_type": "stream",
          "name": "stdout",
          "text": [
            "[[0.04742587]]\n",
            "[[0.11920292]]\n",
            "[[0.26894142]]\n",
            "[[0.5]]\n",
            "[[0.73105858]]\n",
            "[[0.88079708]]\n",
            "[[0.95257413]]\n"
          ]
        }
      ]
    },
    {
      "cell_type": "markdown",
      "metadata": {
        "id": "umk0_qavR02D"
      },
      "source": [
        "* 시각화"
      ]
    },
    {
      "cell_type": "code",
      "metadata": {
        "id": "0l7xoCQu34Xs",
        "colab": {
          "base_uri": "https://localhost:8080/",
          "height": 283
        },
        "outputId": "aebd2636-6f3b-4ef4-9a0a-ed840e4d5d50"
      },
      "source": [
        "plt.plot(X, Y, marker='o', linestyle='', color='k')\n",
        "plt.plot(X, [hypothesis(x,W) for x in X], color='g')"
      ],
      "execution_count": null,
      "outputs": [
        {
          "output_type": "execute_result",
          "data": {
            "text/plain": [
              "[<matplotlib.lines.Line2D at 0x7fd45c03a4d0>]"
            ]
          },
          "metadata": {},
          "execution_count": 288
        },
        {
          "output_type": "display_data",
          "data": {
            "image/png": "[encoded data removed]",
            "text/plain": [
              "<Figure size 432x288 with 1 Axes>"
            ]
          },
          "metadata": {
            "needs_background": "light"
          }
        }
      ]
    },
    {
      "cell_type": "markdown",
      "metadata": {
        "id": "RV3J6Y2ab_8W"
      },
      "source": [
        "### **학습 파라미터**"
      ]
    },
    {
      "cell_type": "markdown",
      "metadata": {
        "id": "KLLjZVusxLKz"
      },
      "source": [
        "* W 값에 따른 함수의 변화"
      ]
    },
    {
      "cell_type": "code",
      "metadata": {
        "id": "JKLMraWYOUuV",
        "colab": {
          "base_uri": "https://localhost:8080/",
          "height": 265
        },
        "outputId": "07aa70a2-d8fb-40dc-c261-858b556836a7"
      },
      "source": [
        "plt.plot(X, Y, marker='o', linestyle='', color='k')\n",
        "W = np.array([[0.5]])\n",
        "plt.plot(X, [hypothesis(x,W) for x in X], color='r')\n",
        "W = np.array([[1]])\n",
        "plt.plot(X, [hypothesis(x,W) for x in X], color='g')\n",
        "W = np.array([[2]])\n",
        "plt.plot(X, [hypothesis(x,W) for x in X], color='b')\n",
        "\n",
        "plt.legend(['data','w=0.5','w=1.0','w=2.0'])\n",
        "plt.show()"
      ],
      "execution_count": null,
      "outputs": [
        {
          "output_type": "display_data",
          "data": {
            "image/png": "[encoded data removed]",
            "text/plain": [
              "<Figure size 432x288 with 1 Axes>"
            ]
          },
          "metadata": {
            "needs_background": "light"
          }
        }
      ]
    },
    {
      "cell_type": "markdown",
      "metadata": {
        "id": "EkTSQTbTxNwj"
      },
      "source": [
        "* b값에 따른 함수의 변화"
      ]
    },
    {
      "cell_type": "code",
      "metadata": {
        "id": "nE5H5bXbO-DK",
        "colab": {
          "base_uri": "https://localhost:8080/",
          "height": 265
        },
        "outputId": "9ff69d1d-ce57-48a2-ef26-16015fecd611"
      },
      "source": [
        "plt.plot(X, Y, marker='o', linestyle='', color='k')\n",
        "W = np.array([[2]])\n",
        "\n",
        "b = -1\n",
        "plt.plot(X, [hypothesis(x,W,b) for x in X], color='r', marker='.')\n",
        "b = 0\n",
        "plt.plot(X, [hypothesis(x,W,b) for x in X], color='g', marker='.')\n",
        "b = 1\n",
        "plt.plot(X, [hypothesis(x,W,b) for x in X], color='b', marker='.')\n",
        "\n",
        "plt.legend(['data','b=-1','b=0','b=1'])\n",
        "plt.show()"
      ],
      "execution_count": null,
      "outputs": [
        {
          "output_type": "display_data",
          "data": {
            "image/png": "[encoded data removed]",
            "text/plain": [
              "<Figure size 432x288 with 1 Axes>"
            ]
          },
          "metadata": {
            "needs_background": "light"
          }
        }
      ]
    },
    {
      "cell_type": "markdown",
      "metadata": {
        "id": "OhHRBWI4p2ZV"
      },
      "source": [
        "## 2. 손실함수: 크로스 엔트로피 (Cross Entropy)\n",
        "---\n",
        "\n",
        "</br>\n",
        "\n",
        "## <center>$J(W) = -\\frac{1}{n}\\sum_{i=1}^{n}[y^{(i)}log(\\hat{y}^{(i)})+(1-y^{(i)})log(1-\\hat{y}^{(i)})]$</center>\n",
        "\n",
        "</br>\n",
        "\n",
        "<center> $y = 1 \\rightarrow cost(y, \\hat{y}) = -log(\\hat{y})$</center>\n",
        "<center> $y = 0 \\rightarrow cost(y, \\hat{y}) = -log(1-\\hat{y})$</center>\n"
      ]
    },
    {
      "cell_type": "markdown",
      "metadata": {
        "id": "NbYJ77nVptoc"
      },
      "source": [
        "* 구현"
      ]
    },
    {
      "cell_type": "code",
      "metadata": {
        "id": "5z7FDrN_pLfa"
      },
      "source": [
        "def J(y, y_pred):\n",
        "  if y == 1:\n",
        "    return -(np.log10(y_pred))\n",
        "\n",
        "  elif y == 0:\n",
        "    return -(np.log10(1-y_pred))\n",
        "\n",
        "  else:\n",
        "    return 0\n"
      ],
      "execution_count": null,
      "outputs": []
    },
    {
      "cell_type": "markdown",
      "metadata": {
        "id": "s-eyWaHypvOE"
      },
      "source": [
        "* 시각화"
      ]
    },
    {
      "cell_type": "code",
      "metadata": {
        "id": "BUYYMkh4rRn7",
        "colab": {
          "base_uri": "https://localhost:8080/",
          "height": 280
        },
        "outputId": "ebff42ec-2a7a-4c2c-b27b-ac5fe15aa04e"
      },
      "source": [
        "y_pred_arr = np.arange(0.1, 1, 0.1)\n",
        "for y_pred in y_pred_arr:\n",
        "  plt.plot(y_pred, J(1, y_pred), marker='o', color='b')\n",
        "  plt.plot(y_pred, J(0, y_pred), marker='o', color='r')\n",
        "\n",
        "plt.legend(['y = 1', 'y = 0'])\n",
        "plt.xlabel('y_pred')\n",
        "plt.ylabel('Loss = J(y, y_pred)')\n",
        "plt.show()"
      ],
      "execution_count": null,
      "outputs": [
        {
          "output_type": "display_data",
          "data": {
            "image/png": "[encoded data removed]",
            "text/plain": [
              "<Figure size 432x288 with 1 Axes>"
            ]
          },
          "metadata": {
            "needs_background": "light"
          }
        }
      ]
    },
    {
      "cell_type": "markdown",
      "metadata": {
        "id": "dcvlzGY7w7_N"
      },
      "source": [
        "\n",
        "## 3. 실습\n",
        "---"
      ]
    },
    {
      "cell_type": "markdown",
      "metadata": {
        "id": "lERyWr69x0hT"
      },
      "source": [
        "### **데이터**\n",
        "|공부시간|집중도|수면시간|종합성적|합격여부|\n",
        "|------|---|---|---|---|\n",
        "|0|1|9|0|불합격|\n",
        "|1|1|8.5|1.1|불합격|\n",
        "|2|2|8|2.3|불합격|\n",
        "|3|4|8|3.0|불합격|\n",
        "|4|3|7|4.4|불합격|\n",
        "|5|5|7.5|5.5|합격|\n",
        "|6|6|7|6.1|합격|\n",
        "|7|6|6|7.3|합격|\n",
        "|8|7|7|8.4|합격|\n",
        "|9|6|6.5|9.8|합격|"
      ]
    },
    {
      "cell_type": "markdown",
      "metadata": {
        "id": "W05K5U6jr4hF"
      },
      "source": [
        "* 데이터 정의"
      ]
    },
    {
      "cell_type": "markdown",
      "metadata": {
        "id": "J6_lZh2CS9Zc"
      },
      "source": [
        ""
      ]
    },
    {
      "cell_type": "code",
      "metadata": {
        "id": "O8Azp_7AhYc3"
      },
      "source": [
        "X = np.array([[0, 1, 9, 0],\n",
        "              [1, 1, 8.5, 1.1],\n",
        "              [2, 2, 8, 2.3],\n",
        "              [3, 4, 8, 3.0],\n",
        "              [4, 3, 7, 4.4],\n",
        "              [5, 5, 7.5, 5.5],\n",
        "              [6, 6, 7, 6.1],\n",
        "              [7, 6, 6, 7.3],\n",
        "              [8, 7, 7, 8.4],\n",
        "              [9, 6, 6.5, 9.8]])\n",
        "Y = np.array([0, 0, 0, 0, 0, 1, 1, 1, 1, 1])"
      ],
      "execution_count": null,
      "outputs": []
    },
    {
      "cell_type": "markdown",
      "metadata": {
        "id": "vKgnvyq0NIio"
      },
      "source": [
        "* 시각화 "
      ]
    },
    {
      "cell_type": "code",
      "metadata": {
        "id": "XE61QbZViBcv",
        "colab": {
          "base_uri": "https://localhost:8080/",
          "height": 283
        },
        "outputId": "5c033ea5-6725-4f09-eb8b-d003b35b46e9"
      },
      "source": [
        "plt.plot(Y, linestyle='--', marker='o')"
      ],
      "execution_count": null,
      "outputs": [
        {
          "output_type": "execute_result",
          "data": {
            "text/plain": [
              "[<matplotlib.lines.Line2D at 0x7fd46055cad0>]"
            ]
          },
          "metadata": {},
          "execution_count": 294
        },
        {
          "output_type": "display_data",
          "data": {
            "image/png": "[encoded data removed]",
            "text/plain": [
              "<Figure size 432x288 with 1 Axes>"
            ]
          },
          "metadata": {
            "needs_background": "light"
          }
        }
      ]
    },
    {
      "cell_type": "markdown",
      "metadata": {
        "id": "sjzd0-TyxwDM"
      },
      "source": [
        "###  **모델 생성**"
      ]
    },
    {
      "cell_type": "markdown",
      "metadata": {
        "id": "w341U_IMr_Ay"
      },
      "source": [
        "* 케라스를 이용한 모델 구현"
      ]
    },
    {
      "cell_type": "code",
      "metadata": {
        "id": "_U2vEe_sN-Hd",
        "colab": {
          "base_uri": "https://localhost:8080/"
        },
        "outputId": "3eac2e8c-10b5-4aee-f8cf-8f868f964f9b"
      },
      "source": [
        "model = Sequential()\n",
        "model.add(Dense(1, input_dim=4, activation='sigmoid'))\n",
        "model.summary()"
      ],
      "execution_count": null,
      "outputs": [
        {
          "output_type": "stream",
          "name": "stdout",
          "text": [
            "Model: \"sequential_9\"\n",
            "_________________________________________________________________\n",
            "Layer (type)                 Output Shape              Param #   \n",
            "=================================================================\n",
            "dense_8 (Dense)              (None, 1)                 5         \n",
            "=================================================================\n",
            "Total params: 5\n",
            "Trainable params: 5\n",
            "Non-trainable params: 0\n",
            "_________________________________________________________________\n"
          ]
        }
      ]
    },
    {
      "cell_type": "markdown",
      "metadata": {
        "id": "OBKpPVHFyTsb"
      },
      "source": [
        "* 학습 파라미터 확인"
      ]
    },
    {
      "cell_type": "code",
      "metadata": {
        "id": "9hHOMXhkyPXa",
        "colab": {
          "base_uri": "https://localhost:8080/"
        },
        "outputId": "306cc023-f88b-401d-b251-e08a9b9e433a"
      },
      "source": [
        "W = model.get_weights()[0]\n",
        "b = model.get_weights()[1]\n",
        "\n",
        "print('W:',W,'b:',b)"
      ],
      "execution_count": null,
      "outputs": [
        {
          "output_type": "stream",
          "name": "stdout",
          "text": [
            "W: [[ 0.6756476 ]\n",
            " [-0.5556424 ]\n",
            " [-0.47744548]\n",
            " [ 0.00187528]] b: [0.]\n"
          ]
        }
      ]
    },
    {
      "cell_type": "markdown",
      "metadata": {
        "id": "wfC7jd1tsKgr"
      },
      "source": [
        "* 시각화"
      ]
    },
    {
      "cell_type": "code",
      "metadata": {
        "id": "vKTNcPF3zaPk",
        "colab": {
          "base_uri": "https://localhost:8080/",
          "height": 321
        },
        "outputId": "69de00e7-b681-4bb1-975a-75ae06f33f46"
      },
      "source": [
        "Y_pred = model.predict(X)\n",
        "print(Y.shape, Y_pred.shape)\n",
        "\n",
        "plt.plot(Y, linestyle='--', marker='o')\n",
        "plt.plot(Y_pred, linestyle='--', marker='.')\n",
        "plt.show()"
      ],
      "execution_count": null,
      "outputs": [
        {
          "output_type": "stream",
          "name": "stdout",
          "text": [
            "WARNING:tensorflow:5 out of the last 9 calls to <function Model.make_predict_function.<locals>.predict_function at 0x7fd4582275f0> triggered tf.function retracing. Tracing is expensive and the excessive number of tracings could be due to (1) creating @tf.function repeatedly in a loop, (2) passing tensors with different shapes, (3) passing Python objects instead of tensors. For (1), please define your @tf.function outside of the loop. For (2), @tf.function has experimental_relax_shapes=True option that relaxes argument shapes that can avoid unnecessary retracing. For (3), please refer to https://www.tensorflow.org/guide/function#controlling_retracing and https://www.tensorflow.org/api_docs/python/tf/function for  more details.\n",
            "(10,) (10, 1)\n"
          ]
        },
        {
          "output_type": "display_data",
          "data": {
            "image/png": "[encoded data removed]",
            "text/plain": [
              "<Figure size 432x288 with 1 Axes>"
            ]
          },
          "metadata": {
            "needs_background": "light"
          }
        }
      ]
    },
    {
      "cell_type": "markdown",
      "metadata": {
        "id": "GpvKk6lsymbd"
      },
      "source": [
        "### **모델 학습**"
      ]
    },
    {
      "cell_type": "markdown",
      "metadata": {
        "id": "VaLNy_3atLZ8"
      },
      "source": [
        "* 모델 컴파일"
      ]
    },
    {
      "cell_type": "code",
      "metadata": {
        "id": "j6zS1DtnyTOT"
      },
      "source": [
        "model.compile(optimizer=optimizers.SGD(learning_rate=0.01),\n",
        "              loss='binary_crossentropy',\n",
        "              metrics=['acc']\n",
        "              )"
      ],
      "execution_count": null,
      "outputs": []
    },
    {
      "cell_type": "markdown",
      "metadata": {
        "id": "ZxywaIertNp0"
      },
      "source": [
        "* 학습 진행"
      ]
    },
    {
      "cell_type": "code",
      "metadata": {
        "id": "JSW0c3Lzypip",
        "colab": {
          "base_uri": "https://localhost:8080/"
        },
        "outputId": "9a56d518-194c-4b91-95cd-a1906953c288"
      },
      "source": [
        "model.fit(X, Y, epochs=1)"
      ],
      "execution_count": null,
      "outputs": [
        {
          "output_type": "stream",
          "name": "stdout",
          "text": [
            "1/1 [==============================] - 0s 4ms/step - loss: 0.1359 - acc: 1.0000\n"
          ]
        },
        {
          "output_type": "execute_result",
          "data": {
            "text/plain": [
              "<keras.callbacks.History at 0x7fd460462450>"
            ]
          },
          "metadata": {},
          "execution_count": 302
        }
      ]
    },
    {
      "cell_type": "markdown",
      "metadata": {
        "id": "e0215hW8tTj0"
      },
      "source": [
        "### **결과**"
      ]
    },
    {
      "cell_type": "markdown",
      "metadata": {
        "id": "W168xYmMtVij"
      },
      "source": [
        "* 학습 파라미터 확인"
      ]
    },
    {
      "cell_type": "code",
      "metadata": {
        "id": "Aj42y5watYT7",
        "colab": {
          "base_uri": "https://localhost:8080/"
        },
        "outputId": "6607f50d-eefe-4eaf-eb2c-1e9cf6455c9f"
      },
      "source": [
        "W = model.get_weights()[0]\n",
        "b = model.get_weights()[1]\n",
        "\n",
        "print('W:',W,'b:',b)"
      ],
      "execution_count": null,
      "outputs": [
        {
          "output_type": "stream",
          "name": "stdout",
          "text": [
            "W: [[ 1.0008601 ]\n",
            " [-0.14521359]\n",
            " [-0.7228296 ]\n",
            " [ 0.33016428]] b: [-0.03003764]\n"
          ]
        }
      ]
    },
    {
      "cell_type": "markdown",
      "metadata": {
        "id": "WZP0UAgGtbXD"
      },
      "source": [
        "* 시각화"
      ]
    },
    {
      "cell_type": "code",
      "metadata": {
        "id": "pXDWEWIDtbXD",
        "colab": {
          "base_uri": "https://localhost:8080/",
          "height": 283
        },
        "outputId": "d182bd5c-3327-4ab0-b216-b76d1fba0de1"
      },
      "source": [
        "Y_pred = model.predict(X)\n",
        "print(Y.shape, Y_pred.shape)\n",
        "\n",
        "plt.plot(Y, linestyle='--', marker='o')\n",
        "plt.plot(Y_pred, linestyle='--', marker='.')\n",
        "plt.show()"
      ],
      "execution_count": null,
      "outputs": [
        {
          "output_type": "stream",
          "name": "stdout",
          "text": [
            "(10,) (10, 1)\n"
          ]
        },
        {
          "output_type": "display_data",
          "data": {
            "image/png": "[encoded data removed]",
            "text/plain": [
              "<Figure size 432x288 with 1 Axes>"
            ]
          },
          "metadata": {
            "needs_background": "light"
          }
        }
      ]
    }
  ]
}